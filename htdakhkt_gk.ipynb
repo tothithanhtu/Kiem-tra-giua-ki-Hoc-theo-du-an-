{
 "cells": [
  {
   "cell_type": "code",
   "execution_count": 5,
   "id": "6982ee7a-263e-4359-98b2-f6c9e1001638",
   "metadata": {},
   "outputs": [
    {
     "name": "stdin",
     "output_type": "stream",
     "text": [
      "Nhập một số nguyên dương: n =  2\n"
     ]
    },
    {
     "name": "stdout",
     "output_type": "stream",
     "text": [
      "2 là số nguyên tố.\n"
     ]
    }
   ],
   "source": [
    "# Bai 1\n",
    "import math\n",
    "\n",
    "def is_prime(n):\n",
    "    if n < 2:\n",
    "        return False\n",
    "    for i in range(2, int(math.sqrt(n)) + 1):\n",
    "        if n % i == 0:\n",
    "            return False\n",
    "    return True\n",
    "\n",
    "n = int(input(\"Nhập một số nguyên dương: n = \"))\n",
    "\n",
    "if is_prime(n):\n",
    "    print(f\"{n} là số nguyên tố.\")\n",
    "else:\n",
    "    print(f\"{n} không phải là số nguyên tố.\")"
   ]
  },
  {
   "cell_type": "code",
   "execution_count": 19,
   "id": "b2f75b71-565d-48df-9b9e-6237952c9b9f",
   "metadata": {},
   "outputs": [
    {
     "name": "stdin",
     "output_type": "stream",
     "text": [
      "Nhập một số nguyên không âm có dạng 'nnn' (ví dụ: 111, 222): nnn =  12\n"
     ]
    },
    {
     "name": "stdout",
     "output_type": "stream",
     "text": [
      "Vui lòng nhập một số có đúng 3 chữ số giống nhau (ví dụ: 111, 222, ...).\n"
     ]
    },
    {
     "name": "stdin",
     "output_type": "stream",
     "text": [
      "Nhập một số nguyên không âm có dạng 'nnn' (ví dụ: 111, 222): nnn =  111\n"
     ]
    },
    {
     "name": "stdout",
     "output_type": "stream",
     "text": [
      "Giai thừa của 111 là 1762952551090244663872161047107075788761409536026565516041574063347346955087248316436555574598462315773196047662837978913145847497199871623320096254145331200000000000000000000000000\n"
     ]
    }
   ],
   "source": [
    "# Bai 2\n",
    "def factorial(n):\n",
    "    if n == 0:\n",
    "        return 1\n",
    "    result = 1\n",
    "    for i in range(1, n + 1):\n",
    "        result *= i\n",
    "    return result\n",
    "\n",
    "while True:\n",
    "    n_str = input(\"Nhập một số nguyên không âm có dạng 'nnn' (ví dụ: 111, 222): nnn = \")\n",
    "    if len(n_str) == 3 and n_str[0] == n_str[1] == n_str[2] and n_str.isdigit():  \n",
    "        n = int(n_str)\n",
    "        break\n",
    "    else:\n",
    "        print(\"Vui lòng nhập một số có đúng 3 chữ số giống nhau (ví dụ: 111, 222, ...).\")\n",
    "\n",
    "print(f\"Giai thừa của {n} là {factorial(n)}\")\n"
   ]
  },
  {
   "cell_type": "code",
   "execution_count": 9,
   "id": "52293077-a5ad-4846-a419-58fd1f1a4f86",
   "metadata": {},
   "outputs": [
    {
     "name": "stdin",
     "output_type": "stream",
     "text": [
      "Nhập mảng số nguyên, cách nhau bởi dấu cách:  3 5 1 7 8 4\n"
     ]
    },
    {
     "name": "stdout",
     "output_type": "stream",
     "text": [
      "Bước 1:\n",
      "[3, 5, 1, 7, 8, 4]\n",
      "[3, 1, 5, 7, 8, 4]\n",
      "[3, 1, 5, 7, 8, 4]\n",
      "[3, 1, 5, 7, 8, 4]\n",
      "[3, 1, 5, 7, 4, 8]\n",
      "Bước 2:\n",
      "[1, 3, 5, 7, 4, 8]\n",
      "[1, 3, 5, 7, 4, 8]\n",
      "[1, 3, 5, 7, 4, 8]\n",
      "[1, 3, 5, 4, 7, 8]\n",
      "Bước 3:\n",
      "[1, 3, 5, 4, 7, 8]\n",
      "[1, 3, 5, 4, 7, 8]\n",
      "[1, 3, 4, 5, 7, 8]\n",
      "Bước 4:\n",
      "[1, 3, 4, 5, 7, 8]\n",
      "[1, 3, 4, 5, 7, 8]\n",
      "Mảng đã sắp xếp: [1, 3, 4, 5, 7, 8]\n"
     ]
    }
   ],
   "source": [
    "# Bai 3\n",
    "def bubble_sort(arr):\n",
    "    n = len(arr)\n",
    "    for i in range(n - 1):\n",
    "        swapped = False\n",
    "        print(f\"Bước {i + 1}:\")\n",
    "        for j in range(n - 1 - i):\n",
    "            if arr[j] > arr[j + 1]:\n",
    "                arr[j], arr[j + 1] = arr[j + 1], arr[j]\n",
    "                swapped = True\n",
    "            print(arr)  \n",
    "        if not swapped:\n",
    "            break  \n",
    "\n",
    "arr = list(map(int, input(\"Nhập mảng số nguyên, cách nhau bởi dấu cách: \").split()))\n",
    "\n",
    "bubble_sort(arr)\n",
    "\n",
    "print(\"Mảng đã sắp xếp:\", arr)\n"
   ]
  },
  {
   "cell_type": "code",
   "execution_count": 11,
   "id": "5f9b7aab-4afc-4fee-90d2-6fcb377e5b85",
   "metadata": {},
   "outputs": [
    {
     "name": "stdin",
     "output_type": "stream",
     "text": [
      "Nhập số nguyên n:  12\n"
     ]
    },
    {
     "name": "stdout",
     "output_type": "stream",
     "text": [
      "Số Fibonacci thứ 12 là 144\n"
     ]
    }
   ],
   "source": [
    "# Bai 4\n",
    "def fibonacci_dp(n):\n",
    "    if n == 0:\n",
    "        return 0\n",
    "    elif n == 1:\n",
    "        return 1\n",
    "    \n",
    "    fib = [0] * (n + 1)\n",
    "    fib[1] = 1\n",
    "    \n",
    "    for i in range(2, n + 1):\n",
    "        fib[i] = fib[i - 1] + fib[i - 2]\n",
    "    \n",
    "    return fib[n]\n",
    "\n",
    "n = int(input(\"Nhập số nguyên n: \"))\n",
    "\n",
    "if n < 0:\n",
    "    print(\"Vui lòng nhập một số nguyên không âm.\")\n",
    "else:\n",
    "    print(f\"Số Fibonacci thứ {n} là {fibonacci_dp(n)}\")\n"
   ]
  }
 ],
 "metadata": {
  "kernelspec": {
   "display_name": "Python [conda env:base] *",
   "language": "python",
   "name": "conda-base-py"
  },
  "language_info": {
   "codemirror_mode": {
    "name": "ipython",
    "version": 3
   },
   "file_extension": ".py",
   "mimetype": "text/x-python",
   "name": "python",
   "nbconvert_exporter": "python",
   "pygments_lexer": "ipython3",
   "version": "3.12.7"
  }
 },
 "nbformat": 4,
 "nbformat_minor": 5
}
